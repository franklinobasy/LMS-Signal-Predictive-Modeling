{
 "cells": [
  {
   "cell_type": "code",
   "execution_count": 3,
   "metadata": {},
   "outputs": [],
   "source": [
    "import os\n",
    "os.chdir('../')"
   ]
  },
  {
   "cell_type": "code",
   "execution_count": 4,
   "metadata": {},
   "outputs": [],
   "source": [
    "import numpy as np\n",
    "import pandas as pd\n",
    "import matplotlib.pyplot as plt\n",
    "from sklearn.model_selection import train_test_split, cross_val_score\n",
    "from sklearn.preprocessing import StandardScaler, MinMaxScaler\n",
    "from sklearn.metrics import mean_squared_error, r2_score\n",
    "from sklearn.linear_model import LinearRegression\n",
    "from sklearn.tree import DecisionTreeRegressor\n",
    "from sklearn.ensemble import RandomForestRegressor, GradientBoostingRegressor\n",
    "from sklearn.svm import SVR\n",
    "from xgboost import XGBRegressor\n",
    "from tensorflow.keras.models import Sequential\n",
    "from tensorflow.keras.layers import Dense\n",
    "import tensorflow as tf"
   ]
  },
  {
   "cell_type": "code",
   "execution_count": 5,
   "metadata": {},
   "outputs": [],
   "source": [
    "# Load dataset\n",
    "def load_data(filepath):\n",
    "    data = pd.read_csv(filepath)\n",
    "    return data\n"
   ]
  },
  {
   "cell_type": "code",
   "execution_count": 6,
   "metadata": {},
   "outputs": [],
   "source": [
    "filepath = 'dataset/large_simulated_satelitte_data.csv'\n",
    "\n",
    "df = load_data(filepath)"
   ]
  },
  {
   "cell_type": "code",
   "execution_count": 7,
   "metadata": {},
   "outputs": [
    {
     "name": "stdout",
     "output_type": "stream",
     "text": [
      "<class 'pandas.core.frame.DataFrame'>\n",
      "RangeIndex: 100000 entries, 0 to 99999\n",
      "Data columns (total 15 columns):\n",
      " #   Column                Non-Null Count   Dtype  \n",
      "---  ------                --------------   -----  \n",
      " 0   Timestamp             100000 non-null  object \n",
      " 1   Latitude (degrees)    100000 non-null  float64\n",
      " 2   Longitude (degrees)   100000 non-null  float64\n",
      " 3   Altitude (meters)     100000 non-null  float64\n",
      " 4   Speed (m/s)           100000 non-null  float64\n",
      " 5   Direction (degrees)   100000 non-null  float64\n",
      " 6   Signal Strength (dB)  100000 non-null  float64\n",
      " 7   Temperature (°C)      100000 non-null  float64\n",
      " 8   Humidity (%)          100000 non-null  float64\n",
      " 9   Accel X (g)           100000 non-null  float64\n",
      " 10  Accel Y (g)           100000 non-null  float64\n",
      " 11  Accel Z (g)           100000 non-null  float64\n",
      " 12  Gyro X (°/s)          100000 non-null  float64\n",
      " 13  Gyro Y (°/s)          100000 non-null  float64\n",
      " 14  Gyro Z (°/s)          100000 non-null  float64\n",
      "dtypes: float64(14), object(1)\n",
      "memory usage: 11.4+ MB\n"
     ]
    }
   ],
   "source": [
    "df.info()"
   ]
  },
  {
   "cell_type": "code",
   "execution_count": 8,
   "metadata": {},
   "outputs": [],
   "source": [
    "df.drop('Timestamp', axis=1, inplace=True)"
   ]
  },
  {
   "cell_type": "code",
   "execution_count": 9,
   "metadata": {},
   "outputs": [
    {
     "data": {
      "text/html": [
       "<div>\n",
       "<style scoped>\n",
       "    .dataframe tbody tr th:only-of-type {\n",
       "        vertical-align: middle;\n",
       "    }\n",
       "\n",
       "    .dataframe tbody tr th {\n",
       "        vertical-align: top;\n",
       "    }\n",
       "\n",
       "    .dataframe thead th {\n",
       "        text-align: right;\n",
       "    }\n",
       "</style>\n",
       "<table border=\"1\" class=\"dataframe\">\n",
       "  <thead>\n",
       "    <tr style=\"text-align: right;\">\n",
       "      <th></th>\n",
       "      <th>Latitude (degrees)</th>\n",
       "      <th>Longitude (degrees)</th>\n",
       "      <th>Altitude (meters)</th>\n",
       "      <th>Speed (m/s)</th>\n",
       "      <th>Direction (degrees)</th>\n",
       "      <th>Signal Strength (dB)</th>\n",
       "      <th>Temperature (°C)</th>\n",
       "      <th>Humidity (%)</th>\n",
       "      <th>Accel X (g)</th>\n",
       "      <th>Accel Y (g)</th>\n",
       "      <th>Accel Z (g)</th>\n",
       "      <th>Gyro X (°/s)</th>\n",
       "      <th>Gyro Y (°/s)</th>\n",
       "      <th>Gyro Z (°/s)</th>\n",
       "    </tr>\n",
       "  </thead>\n",
       "  <tbody>\n",
       "    <tr>\n",
       "      <th>0</th>\n",
       "      <td>-39.328869</td>\n",
       "      <td>-130.460820</td>\n",
       "      <td>419651.594569</td>\n",
       "      <td>7455.266904</td>\n",
       "      <td>272.669015</td>\n",
       "      <td>-137.147839</td>\n",
       "      <td>-68.968800</td>\n",
       "      <td>0.380783</td>\n",
       "      <td>0.004040</td>\n",
       "      <td>-0.001326</td>\n",
       "      <td>0.001446</td>\n",
       "      <td>0.007182</td>\n",
       "      <td>-0.003271</td>\n",
       "      <td>0.001843</td>\n",
       "    </tr>\n",
       "    <tr>\n",
       "      <th>1</th>\n",
       "      <td>-39.290038</td>\n",
       "      <td>-130.398314</td>\n",
       "      <td>419637.105788</td>\n",
       "      <td>7590.563695</td>\n",
       "      <td>73.577059</td>\n",
       "      <td>-142.454825</td>\n",
       "      <td>-44.237531</td>\n",
       "      <td>0.635227</td>\n",
       "      <td>0.006213</td>\n",
       "      <td>0.003572</td>\n",
       "      <td>0.009074</td>\n",
       "      <td>0.001861</td>\n",
       "      <td>0.001756</td>\n",
       "      <td>0.004308</td>\n",
       "    </tr>\n",
       "    <tr>\n",
       "      <th>2</th>\n",
       "      <td>-39.251168</td>\n",
       "      <td>-130.335882</td>\n",
       "      <td>419622.605958</td>\n",
       "      <td>7512.743067</td>\n",
       "      <td>309.134267</td>\n",
       "      <td>-137.196830</td>\n",
       "      <td>23.350556</td>\n",
       "      <td>0.956095</td>\n",
       "      <td>-0.002078</td>\n",
       "      <td>0.005280</td>\n",
       "      <td>0.002577</td>\n",
       "      <td>0.006936</td>\n",
       "      <td>-0.001514</td>\n",
       "      <td>0.001198</td>\n",
       "    </tr>\n",
       "    <tr>\n",
       "      <th>3</th>\n",
       "      <td>-39.212260</td>\n",
       "      <td>-130.273523</td>\n",
       "      <td>419608.095144</td>\n",
       "      <td>7465.972065</td>\n",
       "      <td>11.231261</td>\n",
       "      <td>-141.979573</td>\n",
       "      <td>-82.915576</td>\n",
       "      <td>0.945623</td>\n",
       "      <td>0.009870</td>\n",
       "      <td>0.011500</td>\n",
       "      <td>-0.004871</td>\n",
       "      <td>-0.000846</td>\n",
       "      <td>0.002586</td>\n",
       "      <td>0.006551</td>\n",
       "    </tr>\n",
       "    <tr>\n",
       "      <th>4</th>\n",
       "      <td>-39.173314</td>\n",
       "      <td>-130.211237</td>\n",
       "      <td>419593.573410</td>\n",
       "      <td>7578.184097</td>\n",
       "      <td>104.386333</td>\n",
       "      <td>-153.977930</td>\n",
       "      <td>32.839461</td>\n",
       "      <td>0.688654</td>\n",
       "      <td>0.023137</td>\n",
       "      <td>-0.007570</td>\n",
       "      <td>0.005351</td>\n",
       "      <td>-0.001647</td>\n",
       "      <td>0.002220</td>\n",
       "      <td>0.007319</td>\n",
       "    </tr>\n",
       "  </tbody>\n",
       "</table>\n",
       "</div>"
      ],
      "text/plain": [
       "   Latitude (degrees)  Longitude (degrees)  Altitude (meters)  Speed (m/s)  \\\n",
       "0          -39.328869          -130.460820      419651.594569  7455.266904   \n",
       "1          -39.290038          -130.398314      419637.105788  7590.563695   \n",
       "2          -39.251168          -130.335882      419622.605958  7512.743067   \n",
       "3          -39.212260          -130.273523      419608.095144  7465.972065   \n",
       "4          -39.173314          -130.211237      419593.573410  7578.184097   \n",
       "\n",
       "   Direction (degrees)  Signal Strength (dB)  Temperature (°C)  Humidity (%)  \\\n",
       "0           272.669015           -137.147839        -68.968800      0.380783   \n",
       "1            73.577059           -142.454825        -44.237531      0.635227   \n",
       "2           309.134267           -137.196830         23.350556      0.956095   \n",
       "3            11.231261           -141.979573        -82.915576      0.945623   \n",
       "4           104.386333           -153.977930         32.839461      0.688654   \n",
       "\n",
       "   Accel X (g)  Accel Y (g)  Accel Z (g)  Gyro X (°/s)  Gyro Y (°/s)  \\\n",
       "0     0.004040    -0.001326     0.001446      0.007182     -0.003271   \n",
       "1     0.006213     0.003572     0.009074      0.001861      0.001756   \n",
       "2    -0.002078     0.005280     0.002577      0.006936     -0.001514   \n",
       "3     0.009870     0.011500    -0.004871     -0.000846      0.002586   \n",
       "4     0.023137    -0.007570     0.005351     -0.001647      0.002220   \n",
       "\n",
       "   Gyro Z (°/s)  \n",
       "0      0.001843  \n",
       "1      0.004308  \n",
       "2      0.001198  \n",
       "3      0.006551  \n",
       "4      0.007319  "
      ]
     },
     "execution_count": 9,
     "metadata": {},
     "output_type": "execute_result"
    }
   ],
   "source": [
    "df.head()"
   ]
  },
  {
   "cell_type": "code",
   "execution_count": 10,
   "metadata": {},
   "outputs": [
    {
     "data": {
      "text/plain": [
       "(100000, 14)"
      ]
     },
     "execution_count": 10,
     "metadata": {},
     "output_type": "execute_result"
    }
   ],
   "source": [
    "df.shape"
   ]
  },
  {
   "cell_type": "code",
   "execution_count": 11,
   "metadata": {},
   "outputs": [],
   "source": [
    "# Preprocessing function\n",
    "def preprocess_data(data):\n",
    "    features = data.drop('Signal Strength (dB)', axis=1)\n",
    "    target = data['Signal Strength (dB)']\n",
    "\n",
    "    # Normalizing/Standardizing features\n",
    "    scaler = StandardScaler()\n",
    "    features_scaled = scaler.fit_transform(features)\n",
    "    \n",
    "    X_train, X_test, y_train, y_test = train_test_split(features_scaled, target, test_size=0.2, random_state=42)\n",
    "    \n",
    "    return (scaler, (X_train, X_test, y_train, y_test))"
   ]
  },
  {
   "cell_type": "code",
   "execution_count": 12,
   "metadata": {},
   "outputs": [
    {
     "name": "stdout",
     "output_type": "stream",
     "text": [
      "4\n"
     ]
    }
   ],
   "source": [
    "scaler, splits = preprocess_data(df)\n",
    "\n",
    "print(len(splits))"
   ]
  },
  {
   "cell_type": "code",
   "execution_count": 13,
   "metadata": {},
   "outputs": [],
   "source": [
    "X_train, X_test, y_train, y_test = splits"
   ]
  },
  {
   "cell_type": "code",
   "execution_count": 14,
   "metadata": {},
   "outputs": [
    {
     "data": {
      "text/plain": [
       "array([[ 0.95596387,  0.9767269 , -0.35410133, ...,  1.17907252,\n",
       "        -0.04064364,  1.90888479],\n",
       "       [-1.14210101, -0.72890344,  1.05230156, ...,  1.10548384,\n",
       "         0.84328385, -2.11500542],\n",
       "       [-0.51324338,  0.63577139, -0.74026886, ...,  0.29184646,\n",
       "        -0.20933284,  0.42016317],\n",
       "       ...,\n",
       "       [-1.20034939,  1.66247916,  1.21935484, ..., -0.0390395 ,\n",
       "         0.32927441,  0.34800173],\n",
       "       [ 0.0443237 , -0.89160964, -1.39079357, ..., -0.06266781,\n",
       "        -1.07345669, -0.9262311 ],\n",
       "       [-1.33861621,  0.79505667,  1.57254236, ...,  0.6863421 ,\n",
       "         1.92112059, -0.05392213]])"
      ]
     },
     "execution_count": 14,
     "metadata": {},
     "output_type": "execute_result"
    }
   ],
   "source": [
    "X_train"
   ]
  },
  {
   "cell_type": "code",
   "execution_count": 15,
   "metadata": {},
   "outputs": [
    {
     "data": {
      "text/plain": [
       "75220   -132.054226\n",
       "48955   -139.155614\n",
       "44966   -142.315223\n",
       "13568   -125.405140\n",
       "92727   -136.581164\n",
       "            ...    \n",
       "6265    -142.779213\n",
       "54886   -138.642129\n",
       "76820   -141.848253\n",
       "860     -143.061958\n",
       "15795   -135.534208\n",
       "Name: Signal Strength (dB), Length: 80000, dtype: float64"
      ]
     },
     "execution_count": 15,
     "metadata": {},
     "output_type": "execute_result"
    }
   ],
   "source": [
    "y_train"
   ]
  },
  {
   "cell_type": "code",
   "execution_count": 16,
   "metadata": {},
   "outputs": [],
   "source": [
    "# Evaluation function with metrics storage\n",
    "def evaluate_model(y_test, y_pred, model_name, metrics_dict):\n",
    "    mse = mean_squared_error(y_test, y_pred)\n",
    "    rmse = np.sqrt(mse)\n",
    "    r2 = r2_score(y_test, y_pred)\n",
    "    \n",
    "    metrics_dict['Model'].append(model_name)\n",
    "    metrics_dict['MSE'].append(mse)\n",
    "    metrics_dict['RMSE'].append(rmse)\n",
    "    metrics_dict['R²'].append(r2)\n",
    "    \n",
    "    print(f\"{model_name} - Mean Squared Error: {mse}, RMSE: {rmse}, R² Score: {r2}\")\n",
    "\n"
   ]
  },
  {
   "cell_type": "code",
   "execution_count": 17,
   "metadata": {},
   "outputs": [],
   "source": [
    "# Plotting function\n",
    "def plot_metrics(metrics_dict):\n",
    "    df_metrics = pd.DataFrame(metrics_dict)\n",
    "    \n",
    "    fig, ax = plt.subplots(1, 3, figsize=(18, 5))\n",
    "    \n",
    "    df_metrics.plot(kind='bar', x='Model', y='MSE', ax=ax[0], color='skyblue', legend=False)\n",
    "    ax[0].set_title('Mean Squared Error')\n",
    "    ax[0].set_ylabel('MSE')\n",
    "    \n",
    "    df_metrics.plot(kind='bar', x='Model', y='RMSE', ax=ax[1], color='lightgreen', legend=False)\n",
    "    ax[1].set_title('Root Mean Squared Error')\n",
    "    ax[1].set_ylabel('RMSE')\n",
    "    \n",
    "    df_metrics.plot(kind='bar', x='Model', y='R²', ax=ax[2], color='salmon', legend=False)\n",
    "    ax[2].set_title('R² Score')\n",
    "    ax[2].set_ylabel('R²')\n",
    "    \n",
    "    plt.tight_layout()\n",
    "    plt.show()\n"
   ]
  },
  {
   "cell_type": "code",
   "execution_count": 18,
   "metadata": {},
   "outputs": [],
   "source": [
    "def linear_regression_model(X_train, y_train, X_test, y_test, metrics_dict):\n",
    "    model = LinearRegression()\n",
    "    model.fit(X_train, y_train)\n",
    "    y_pred = model.predict(X_test)\n",
    "    \n",
    "    evaluate_model(y_test, y_pred, 'Linear Regression', metrics_dict)"
   ]
  },
  {
   "cell_type": "code",
   "execution_count": 19,
   "metadata": {},
   "outputs": [],
   "source": [
    "def decision_tree_model(X_train, y_train, X_test, y_test, metrics_dict):\n",
    "    model = DecisionTreeRegressor(random_state=42)\n",
    "    model.fit(X_train, y_train)\n",
    "    y_pred = model.predict(X_test)\n",
    "    \n",
    "    evaluate_model(y_test, y_pred, 'Decision Tree Regressor', metrics_dict)"
   ]
  },
  {
   "cell_type": "code",
   "execution_count": 20,
   "metadata": {},
   "outputs": [],
   "source": [
    "def random_forest_model(X_train, y_train, X_test, y_test, metrics_dict):\n",
    "    model = RandomForestRegressor(n_estimators=100, random_state=42)\n",
    "    model.fit(X_train, y_train)\n",
    "    y_pred = model.predict(X_test)\n",
    "    \n",
    "    evaluate_model(y_test, y_pred, 'Random Forest Regressor', metrics_dict)"
   ]
  },
  {
   "cell_type": "code",
   "execution_count": 21,
   "metadata": {},
   "outputs": [],
   "source": [
    "def gradient_boosting_model(X_train, y_train, X_test, y_test, metrics_dict):\n",
    "    model = GradientBoostingRegressor(n_estimators=100, random_state=42)\n",
    "    model.fit(X_train, y_train)\n",
    "    y_pred = model.predict(X_test)\n",
    "    \n",
    "    evaluate_model(y_test, y_pred, 'Gradient Boosting Regressor', metrics_dict)"
   ]
  },
  {
   "cell_type": "code",
   "execution_count": 22,
   "metadata": {},
   "outputs": [],
   "source": [
    "\n",
    "def support_vector_regressor_model(X_train, y_train, X_test, y_test, metrics_dict):\n",
    "    model = SVR(kernel='rbf', C=100, gamma=0.1, epsilon=.1)\n",
    "    model.fit(X_train, y_train)\n",
    "    y_pred = model.predict(X_test)\n",
    "    \n",
    "    evaluate_model(y_test, y_pred, 'Support Vector Regressor', metrics_dict)"
   ]
  },
  {
   "cell_type": "code",
   "execution_count": 23,
   "metadata": {},
   "outputs": [],
   "source": [
    "def xgboost_model(X_train, y_train, X_test, y_test, metrics_dict):\n",
    "    model = XGBRegressor(objective ='reg:squarederror', n_estimators=100, random_state=42)\n",
    "    model.fit(X_train, y_train)\n",
    "    y_pred = model.predict(X_test)\n",
    "    \n",
    "    evaluate_model(y_test, y_pred, 'XGBoost Regressor', metrics_dict)"
   ]
  },
  {
   "cell_type": "code",
   "execution_count": 24,
   "metadata": {},
   "outputs": [],
   "source": [
    "def keras_regressor_model(X_train, y_train, X_test, y_test, metrics_dict):\n",
    "    model = Sequential([\n",
    "        Dense(128, input_dim=X_train.shape[1], activation='relu'),\n",
    "        Dense(64, activation='relu'),\n",
    "        Dense(32, activation='relu'),\n",
    "        Dense(16, activation='relu'),\n",
    "        Dense(8, activation='relu'),\n",
    "        Dense(1)\n",
    "    ])\n",
    "    \n",
    "    model.compile(optimizer='adam', loss='mean_squared_error')\n",
    "    model.fit(X_train, y_train, epochs=100, batch_size=32, verbose=1, validation_split=0.1)\n",
    "    \n",
    "    y_pred = model.predict(X_test)\n",
    "    \n",
    "    evaluate_model(y_test, y_pred, 'Keras Regressor', metrics_dict)"
   ]
  },
  {
   "cell_type": "code",
   "execution_count": 25,
   "metadata": {},
   "outputs": [],
   "source": [
    "metrics_dict = {'Model': [], 'MSE': [], 'RMSE': [], 'R²': []}"
   ]
  },
  {
   "cell_type": "code",
   "execution_count": 26,
   "metadata": {},
   "outputs": [],
   "source": [
    "def run_analysis(X_train, y_train, X_test, y_test, metrics_dict):\n",
    "    linear_regression_model(X_train, y_train, X_test, y_test, metrics_dict)\n",
    "    decision_tree_model(X_train, y_train, X_test, y_test, metrics_dict)\n",
    "    random_forest_model(X_train, y_train, X_test, y_test, metrics_dict)\n",
    "    gradient_boosting_model(X_train, y_train, X_test, y_test, metrics_dict)\n",
    "    # support_vector_regressor_model(X_train, y_train, X_test, y_test, metrics_dict)\n",
    "    xgboost_model(X_train, y_train, X_test, y_test, metrics_dict)\n",
    "    keras_regressor_model(X_train, y_train, X_test, y_test, metrics_dict)\n",
    "    \n",
    "    plot_metrics(metrics_dict)"
   ]
  },
  {
   "cell_type": "code",
   "execution_count": 27,
   "metadata": {},
   "outputs": [
    {
     "name": "stdout",
     "output_type": "stream",
     "text": [
      "Linear Regression - Mean Squared Error: 25.083490698740132, RMSE: 5.008342110792765, R² Score: -3.8490208404295956e-05\n",
      "Decision Tree Regressor - Mean Squared Error: 52.456932267264996, RMSE: 7.2427158074347355, R² Score: -1.0913736439464174\n",
      "Random Forest Regressor - Mean Squared Error: 25.455687551511197, RMSE: 5.045362975199227, R² Score: -0.014877380982254662\n",
      "Gradient Boosting Regressor - Mean Squared Error: 25.114024779186384, RMSE: 5.011389505834323, R² Score: -0.0012558349582283412\n",
      "XGBoost Regressor - Mean Squared Error: 26.040189386957667, RMSE: 5.10295888548572, R² Score: -0.03818053045471981\n"
     ]
    },
    {
     "name": "stderr",
     "output_type": "stream",
     "text": [
      "c:\\Users\\franklin.obasi\\Documents\\Projects\\LMS\\venv\\Lib\\site-packages\\keras\\src\\layers\\core\\dense.py:87: UserWarning: Do not pass an `input_shape`/`input_dim` argument to a layer. When using Sequential models, prefer using an `Input(shape)` object as the first layer in the model instead.\n",
      "  super().__init__(activity_regularizer=activity_regularizer, **kwargs)\n"
     ]
    },
    {
     "name": "stdout",
     "output_type": "stream",
     "text": [
      "Epoch 1/100\n",
      "\u001b[1m2250/2250\u001b[0m \u001b[32m━━━━━━━━━━━━━━━━━━━━\u001b[0m\u001b[37m\u001b[0m \u001b[1m18s\u001b[0m 3ms/step - loss: 2483.6389 - val_loss: 44.0079\n",
      "Epoch 2/100\n",
      "\u001b[1m2250/2250\u001b[0m \u001b[32m━━━━━━━━━━━━━━━━━━━━\u001b[0m\u001b[37m\u001b[0m \u001b[1m6s\u001b[0m 2ms/step - loss: 34.4133 - val_loss: 29.7605\n",
      "Epoch 3/100\n",
      "\u001b[1m2250/2250\u001b[0m \u001b[32m━━━━━━━━━━━━━━━━━━━━\u001b[0m\u001b[37m\u001b[0m \u001b[1m5s\u001b[0m 2ms/step - loss: 29.5591 - val_loss: 30.3243\n",
      "Epoch 4/100\n",
      "\u001b[1m2250/2250\u001b[0m \u001b[32m━━━━━━━━━━━━━━━━━━━━\u001b[0m\u001b[37m\u001b[0m \u001b[1m5s\u001b[0m 2ms/step - loss: 28.9101 - val_loss: 27.6079\n",
      "Epoch 5/100\n",
      "\u001b[1m2250/2250\u001b[0m \u001b[32m━━━━━━━━━━━━━━━━━━━━\u001b[0m\u001b[37m\u001b[0m \u001b[1m6s\u001b[0m 2ms/step - loss: 28.2385 - val_loss: 28.3148\n",
      "Epoch 6/100\n",
      "\u001b[1m2250/2250\u001b[0m \u001b[32m━━━━━━━━━━━━━━━━━━━━\u001b[0m\u001b[37m\u001b[0m \u001b[1m4s\u001b[0m 2ms/step - loss: 27.9205 - val_loss: 27.3950\n",
      "Epoch 7/100\n",
      "\u001b[1m2250/2250\u001b[0m \u001b[32m━━━━━━━━━━━━━━━━━━━━\u001b[0m\u001b[37m\u001b[0m \u001b[1m4s\u001b[0m 2ms/step - loss: 27.8077 - val_loss: 31.3592\n",
      "Epoch 8/100\n",
      "\u001b[1m2250/2250\u001b[0m \u001b[32m━━━━━━━━━━━━━━━━━━━━\u001b[0m\u001b[37m\u001b[0m \u001b[1m4s\u001b[0m 2ms/step - loss: 27.7012 - val_loss: 27.4414\n",
      "Epoch 9/100\n",
      "\u001b[1m2250/2250\u001b[0m \u001b[32m━━━━━━━━━━━━━━━━━━━━\u001b[0m\u001b[37m\u001b[0m \u001b[1m4s\u001b[0m 2ms/step - loss: 27.6427 - val_loss: 31.5406\n",
      "Epoch 10/100\n",
      "\u001b[1m2250/2250\u001b[0m \u001b[32m━━━━━━━━━━━━━━━━━━━━\u001b[0m\u001b[37m\u001b[0m \u001b[1m4s\u001b[0m 2ms/step - loss: 27.2604 - val_loss: 29.7821\n",
      "Epoch 11/100\n",
      "\u001b[1m2250/2250\u001b[0m \u001b[32m━━━━━━━━━━━━━━━━━━━━\u001b[0m\u001b[37m\u001b[0m \u001b[1m5s\u001b[0m 2ms/step - loss: 27.5106 - val_loss: 26.6110\n",
      "Epoch 12/100\n",
      "\u001b[1m2250/2250\u001b[0m \u001b[32m━━━━━━━━━━━━━━━━━━━━\u001b[0m\u001b[37m\u001b[0m \u001b[1m6s\u001b[0m 3ms/step - loss: 27.2171 - val_loss: 26.6660\n",
      "Epoch 13/100\n",
      "\u001b[1m2250/2250\u001b[0m \u001b[32m━━━━━━━━━━━━━━━━━━━━\u001b[0m\u001b[37m\u001b[0m \u001b[1m5s\u001b[0m 2ms/step - loss: 27.1344 - val_loss: 28.0665\n",
      "Epoch 14/100\n",
      "\u001b[1m2250/2250\u001b[0m \u001b[32m━━━━━━━━━━━━━━━━━━━━\u001b[0m\u001b[37m\u001b[0m \u001b[1m5s\u001b[0m 2ms/step - loss: 27.4294 - val_loss: 29.8592\n",
      "Epoch 15/100\n",
      "\u001b[1m2250/2250\u001b[0m \u001b[32m━━━━━━━━━━━━━━━━━━━━\u001b[0m\u001b[37m\u001b[0m \u001b[1m4s\u001b[0m 2ms/step - loss: 27.7265 - val_loss: 28.4415\n",
      "Epoch 16/100\n",
      "\u001b[1m2250/2250\u001b[0m \u001b[32m━━━━━━━━━━━━━━━━━━━━\u001b[0m\u001b[37m\u001b[0m \u001b[1m5s\u001b[0m 2ms/step - loss: 27.0767 - val_loss: 26.9315\n",
      "Epoch 17/100\n",
      "\u001b[1m2250/2250\u001b[0m \u001b[32m━━━━━━━━━━━━━━━━━━━━\u001b[0m\u001b[37m\u001b[0m \u001b[1m6s\u001b[0m 2ms/step - loss: 27.0028 - val_loss: 28.9406\n",
      "Epoch 18/100\n",
      "\u001b[1m2250/2250\u001b[0m \u001b[32m━━━━━━━━━━━━━━━━━━━━\u001b[0m\u001b[37m\u001b[0m \u001b[1m5s\u001b[0m 2ms/step - loss: 26.6799 - val_loss: 29.8867\n",
      "Epoch 19/100\n",
      "\u001b[1m2250/2250\u001b[0m \u001b[32m━━━━━━━━━━━━━━━━━━━━\u001b[0m\u001b[37m\u001b[0m \u001b[1m4s\u001b[0m 2ms/step - loss: 26.6349 - val_loss: 26.4188\n",
      "Epoch 20/100\n",
      "\u001b[1m2250/2250\u001b[0m \u001b[32m━━━━━━━━━━━━━━━━━━━━\u001b[0m\u001b[37m\u001b[0m \u001b[1m4s\u001b[0m 2ms/step - loss: 26.8405 - val_loss: 26.3415\n",
      "Epoch 21/100\n",
      "\u001b[1m2250/2250\u001b[0m \u001b[32m━━━━━━━━━━━━━━━━━━━━\u001b[0m\u001b[37m\u001b[0m \u001b[1m5s\u001b[0m 2ms/step - loss: 26.6231 - val_loss: 27.4350\n",
      "Epoch 22/100\n",
      "\u001b[1m2250/2250\u001b[0m \u001b[32m━━━━━━━━━━━━━━━━━━━━\u001b[0m\u001b[37m\u001b[0m \u001b[1m4s\u001b[0m 2ms/step - loss: 26.9615 - val_loss: 26.5227\n",
      "Epoch 23/100\n",
      "\u001b[1m2250/2250\u001b[0m \u001b[32m━━━━━━━━━━━━━━━━━━━━\u001b[0m\u001b[37m\u001b[0m \u001b[1m5s\u001b[0m 2ms/step - loss: 26.9016 - val_loss: 26.3004\n",
      "Epoch 24/100\n",
      "\u001b[1m2250/2250\u001b[0m \u001b[32m━━━━━━━━━━━━━━━━━━━━\u001b[0m\u001b[37m\u001b[0m \u001b[1m5s\u001b[0m 2ms/step - loss: 26.8591 - val_loss: 27.7502\n",
      "Epoch 25/100\n",
      "\u001b[1m2250/2250\u001b[0m \u001b[32m━━━━━━━━━━━━━━━━━━━━\u001b[0m\u001b[37m\u001b[0m \u001b[1m4s\u001b[0m 2ms/step - loss: 26.7966 - val_loss: 26.2294\n",
      "Epoch 26/100\n",
      "\u001b[1m2250/2250\u001b[0m \u001b[32m━━━━━━━━━━━━━━━━━━━━\u001b[0m\u001b[37m\u001b[0m \u001b[1m5s\u001b[0m 2ms/step - loss: 26.4297 - val_loss: 26.5127\n",
      "Epoch 27/100\n",
      "\u001b[1m2250/2250\u001b[0m \u001b[32m━━━━━━━━━━━━━━━━━━━━\u001b[0m\u001b[37m\u001b[0m \u001b[1m13s\u001b[0m 3ms/step - loss: 26.4780 - val_loss: 27.5208\n",
      "Epoch 28/100\n",
      "\u001b[1m2250/2250\u001b[0m \u001b[32m━━━━━━━━━━━━━━━━━━━━\u001b[0m\u001b[37m\u001b[0m \u001b[1m7s\u001b[0m 3ms/step - loss: 26.9344 - val_loss: 26.3768\n",
      "Epoch 29/100\n",
      "\u001b[1m2250/2250\u001b[0m \u001b[32m━━━━━━━━━━━━━━━━━━━━\u001b[0m\u001b[37m\u001b[0m \u001b[1m7s\u001b[0m 3ms/step - loss: 26.9692 - val_loss: 27.3445\n",
      "Epoch 30/100\n",
      "\u001b[1m2250/2250\u001b[0m \u001b[32m━━━━━━━━━━━━━━━━━━━━\u001b[0m\u001b[37m\u001b[0m \u001b[1m7s\u001b[0m 3ms/step - loss: 26.5611 - val_loss: 29.2432\n",
      "Epoch 31/100\n",
      "\u001b[1m2250/2250\u001b[0m \u001b[32m━━━━━━━━━━━━━━━━━━━━\u001b[0m\u001b[37m\u001b[0m \u001b[1m10s\u001b[0m 3ms/step - loss: 26.8323 - val_loss: 26.6942\n",
      "Epoch 32/100\n",
      "\u001b[1m2250/2250\u001b[0m \u001b[32m━━━━━━━━━━━━━━━━━━━━\u001b[0m\u001b[37m\u001b[0m \u001b[1m7s\u001b[0m 3ms/step - loss: 26.4480 - val_loss: 27.2605\n",
      "Epoch 33/100\n",
      "\u001b[1m2250/2250\u001b[0m \u001b[32m━━━━━━━━━━━━━━━━━━━━\u001b[0m\u001b[37m\u001b[0m \u001b[1m6s\u001b[0m 3ms/step - loss: 26.6403 - val_loss: 26.4179\n",
      "Epoch 34/100\n",
      "\u001b[1m2250/2250\u001b[0m \u001b[32m━━━━━━━━━━━━━━━━━━━━\u001b[0m\u001b[37m\u001b[0m \u001b[1m14s\u001b[0m 5ms/step - loss: 26.4768 - val_loss: 33.4491\n",
      "Epoch 35/100\n",
      "\u001b[1m2250/2250\u001b[0m \u001b[32m━━━━━━━━━━━━━━━━━━━━\u001b[0m\u001b[37m\u001b[0m \u001b[1m8s\u001b[0m 4ms/step - loss: 26.5505 - val_loss: 26.1386\n",
      "Epoch 36/100\n",
      "\u001b[1m2250/2250\u001b[0m \u001b[32m━━━━━━━━━━━━━━━━━━━━\u001b[0m\u001b[37m\u001b[0m \u001b[1m8s\u001b[0m 3ms/step - loss: 26.5390 - val_loss: 26.0846\n",
      "Epoch 37/100\n",
      "\u001b[1m2250/2250\u001b[0m \u001b[32m━━━━━━━━━━━━━━━━━━━━\u001b[0m\u001b[37m\u001b[0m \u001b[1m10s\u001b[0m 4ms/step - loss: 26.4727 - val_loss: 28.7732\n",
      "Epoch 38/100\n",
      "\u001b[1m2250/2250\u001b[0m \u001b[32m━━━━━━━━━━━━━━━━━━━━\u001b[0m\u001b[37m\u001b[0m \u001b[1m9s\u001b[0m 4ms/step - loss: 26.5888 - val_loss: 26.1506\n",
      "Epoch 39/100\n",
      "\u001b[1m2250/2250\u001b[0m \u001b[32m━━━━━━━━━━━━━━━━━━━━\u001b[0m\u001b[37m\u001b[0m \u001b[1m13s\u001b[0m 5ms/step - loss: 26.5199 - val_loss: 28.7470\n",
      "Epoch 40/100\n",
      "\u001b[1m2250/2250\u001b[0m \u001b[32m━━━━━━━━━━━━━━━━━━━━\u001b[0m\u001b[37m\u001b[0m \u001b[1m9s\u001b[0m 4ms/step - loss: 26.5553 - val_loss: 26.1199\n",
      "Epoch 41/100\n",
      "\u001b[1m2250/2250\u001b[0m \u001b[32m━━━━━━━━━━━━━━━━━━━━\u001b[0m\u001b[37m\u001b[0m \u001b[1m9s\u001b[0m 4ms/step - loss: 26.6157 - val_loss: 26.4601\n",
      "Epoch 42/100\n",
      "\u001b[1m2250/2250\u001b[0m \u001b[32m━━━━━━━━━━━━━━━━━━━━\u001b[0m\u001b[37m\u001b[0m \u001b[1m8s\u001b[0m 4ms/step - loss: 26.4185 - val_loss: 26.9579\n",
      "Epoch 43/100\n",
      "\u001b[1m2250/2250\u001b[0m \u001b[32m━━━━━━━━━━━━━━━━━━━━\u001b[0m\u001b[37m\u001b[0m \u001b[1m7s\u001b[0m 3ms/step - loss: 26.2674 - val_loss: 26.6336\n",
      "Epoch 44/100\n",
      "\u001b[1m2250/2250\u001b[0m \u001b[32m━━━━━━━━━━━━━━━━━━━━\u001b[0m\u001b[37m\u001b[0m \u001b[1m9s\u001b[0m 4ms/step - loss: 26.5839 - val_loss: 26.6853\n",
      "Epoch 45/100\n",
      "\u001b[1m2250/2250\u001b[0m \u001b[32m━━━━━━━━━━━━━━━━━━━━\u001b[0m\u001b[37m\u001b[0m \u001b[1m9s\u001b[0m 4ms/step - loss: 26.3217 - val_loss: 26.5867\n",
      "Epoch 46/100\n",
      "\u001b[1m2250/2250\u001b[0m \u001b[32m━━━━━━━━━━━━━━━━━━━━\u001b[0m\u001b[37m\u001b[0m \u001b[1m9s\u001b[0m 4ms/step - loss: 26.3970 - val_loss: 27.7636\n",
      "Epoch 47/100\n",
      "\u001b[1m2250/2250\u001b[0m \u001b[32m━━━━━━━━━━━━━━━━━━━━\u001b[0m\u001b[37m\u001b[0m \u001b[1m8s\u001b[0m 3ms/step - loss: 26.2344 - val_loss: 29.8820\n",
      "Epoch 48/100\n",
      "\u001b[1m2250/2250\u001b[0m \u001b[32m━━━━━━━━━━━━━━━━━━━━\u001b[0m\u001b[37m\u001b[0m \u001b[1m7s\u001b[0m 3ms/step - loss: 26.2151 - val_loss: 26.6549\n",
      "Epoch 49/100\n",
      "\u001b[1m2250/2250\u001b[0m \u001b[32m━━━━━━━━━━━━━━━━━━━━\u001b[0m\u001b[37m\u001b[0m \u001b[1m6s\u001b[0m 2ms/step - loss: 26.0844 - val_loss: 25.8338\n",
      "Epoch 50/100\n",
      "\u001b[1m2250/2250\u001b[0m \u001b[32m━━━━━━━━━━━━━━━━━━━━\u001b[0m\u001b[37m\u001b[0m \u001b[1m6s\u001b[0m 3ms/step - loss: 26.1659 - val_loss: 26.9273\n",
      "Epoch 51/100\n",
      "\u001b[1m2250/2250\u001b[0m \u001b[32m━━━━━━━━━━━━━━━━━━━━\u001b[0m\u001b[37m\u001b[0m \u001b[1m6s\u001b[0m 2ms/step - loss: 26.4123 - val_loss: 25.9362\n",
      "Epoch 52/100\n",
      "\u001b[1m2250/2250\u001b[0m \u001b[32m━━━━━━━━━━━━━━━━━━━━\u001b[0m\u001b[37m\u001b[0m \u001b[1m10s\u001b[0m 2ms/step - loss: 26.2770 - val_loss: 26.3492\n",
      "Epoch 53/100\n",
      "\u001b[1m2250/2250\u001b[0m \u001b[32m━━━━━━━━━━━━━━━━━━━━\u001b[0m\u001b[37m\u001b[0m \u001b[1m6s\u001b[0m 3ms/step - loss: 26.4408 - val_loss: 27.3264\n",
      "Epoch 54/100\n",
      "\u001b[1m2250/2250\u001b[0m \u001b[32m━━━━━━━━━━━━━━━━━━━━\u001b[0m\u001b[37m\u001b[0m \u001b[1m5s\u001b[0m 2ms/step - loss: 25.8371 - val_loss: 27.7513\n",
      "Epoch 55/100\n",
      "\u001b[1m2250/2250\u001b[0m \u001b[32m━━━━━━━━━━━━━━━━━━━━\u001b[0m\u001b[37m\u001b[0m \u001b[1m5s\u001b[0m 2ms/step - loss: 26.3996 - val_loss: 26.1659\n",
      "Epoch 56/100\n",
      "\u001b[1m2250/2250\u001b[0m \u001b[32m━━━━━━━━━━━━━━━━━━━━\u001b[0m\u001b[37m\u001b[0m \u001b[1m5s\u001b[0m 2ms/step - loss: 25.9211 - val_loss: 25.8462\n",
      "Epoch 57/100\n",
      "\u001b[1m2250/2250\u001b[0m \u001b[32m━━━━━━━━━━━━━━━━━━━━\u001b[0m\u001b[37m\u001b[0m \u001b[1m6s\u001b[0m 2ms/step - loss: 26.2475 - val_loss: 26.4143\n",
      "Epoch 58/100\n",
      "\u001b[1m2250/2250\u001b[0m \u001b[32m━━━━━━━━━━━━━━━━━━━━\u001b[0m\u001b[37m\u001b[0m \u001b[1m5s\u001b[0m 2ms/step - loss: 26.0691 - val_loss: 26.6036\n",
      "Epoch 59/100\n",
      "\u001b[1m2250/2250\u001b[0m \u001b[32m━━━━━━━━━━━━━━━━━━━━\u001b[0m\u001b[37m\u001b[0m \u001b[1m4s\u001b[0m 2ms/step - loss: 26.2462 - val_loss: 26.0571\n",
      "Epoch 60/100\n",
      "\u001b[1m2250/2250\u001b[0m \u001b[32m━━━━━━━━━━━━━━━━━━━━\u001b[0m\u001b[37m\u001b[0m \u001b[1m4s\u001b[0m 2ms/step - loss: 26.1282 - val_loss: 25.8825\n",
      "Epoch 61/100\n",
      "\u001b[1m2250/2250\u001b[0m \u001b[32m━━━━━━━━━━━━━━━━━━━━\u001b[0m\u001b[37m\u001b[0m \u001b[1m4s\u001b[0m 2ms/step - loss: 25.9660 - val_loss: 26.4559\n",
      "Epoch 62/100\n",
      "\u001b[1m2250/2250\u001b[0m \u001b[32m━━━━━━━━━━━━━━━━━━━━\u001b[0m\u001b[37m\u001b[0m \u001b[1m5s\u001b[0m 2ms/step - loss: 25.8207 - val_loss: 26.0029\n",
      "Epoch 63/100\n",
      "\u001b[1m2250/2250\u001b[0m \u001b[32m━━━━━━━━━━━━━━━━━━━━\u001b[0m\u001b[37m\u001b[0m \u001b[1m9s\u001b[0m 2ms/step - loss: 25.9771 - val_loss: 26.0496\n",
      "Epoch 64/100\n",
      "\u001b[1m2250/2250\u001b[0m \u001b[32m━━━━━━━━━━━━━━━━━━━━\u001b[0m\u001b[37m\u001b[0m \u001b[1m6s\u001b[0m 3ms/step - loss: 26.0124 - val_loss: 26.5409\n",
      "Epoch 65/100\n",
      "\u001b[1m2250/2250\u001b[0m \u001b[32m━━━━━━━━━━━━━━━━━━━━\u001b[0m\u001b[37m\u001b[0m \u001b[1m6s\u001b[0m 3ms/step - loss: 26.1203 - val_loss: 26.5338\n",
      "Epoch 66/100\n",
      "\u001b[1m2250/2250\u001b[0m \u001b[32m━━━━━━━━━━━━━━━━━━━━\u001b[0m\u001b[37m\u001b[0m \u001b[1m5s\u001b[0m 2ms/step - loss: 25.9929 - val_loss: 32.4891\n",
      "Epoch 67/100\n",
      "\u001b[1m2250/2250\u001b[0m \u001b[32m━━━━━━━━━━━━━━━━━━━━\u001b[0m\u001b[37m\u001b[0m \u001b[1m5s\u001b[0m 2ms/step - loss: 26.1739 - val_loss: 26.0304\n",
      "Epoch 68/100\n",
      "\u001b[1m2250/2250\u001b[0m \u001b[32m━━━━━━━━━━━━━━━━━━━━\u001b[0m\u001b[37m\u001b[0m \u001b[1m6s\u001b[0m 3ms/step - loss: 26.0893 - val_loss: 26.5709\n",
      "Epoch 69/100\n",
      "\u001b[1m2250/2250\u001b[0m \u001b[32m━━━━━━━━━━━━━━━━━━━━\u001b[0m\u001b[37m\u001b[0m \u001b[1m13s\u001b[0m 4ms/step - loss: 26.0076 - val_loss: 27.7375\n",
      "Epoch 70/100\n",
      "\u001b[1m2250/2250\u001b[0m \u001b[32m━━━━━━━━━━━━━━━━━━━━\u001b[0m\u001b[37m\u001b[0m \u001b[1m8s\u001b[0m 3ms/step - loss: 26.0872 - val_loss: 27.5265\n",
      "Epoch 71/100\n",
      "\u001b[1m2250/2250\u001b[0m \u001b[32m━━━━━━━━━━━━━━━━━━━━\u001b[0m\u001b[37m\u001b[0m \u001b[1m9s\u001b[0m 4ms/step - loss: 25.8625 - val_loss: 26.6818\n",
      "Epoch 72/100\n",
      "\u001b[1m2250/2250\u001b[0m \u001b[32m━━━━━━━━━━━━━━━━━━━━\u001b[0m\u001b[37m\u001b[0m \u001b[1m11s\u001b[0m 5ms/step - loss: 26.1797 - val_loss: 27.9769\n",
      "Epoch 73/100\n",
      "\u001b[1m2250/2250\u001b[0m \u001b[32m━━━━━━━━━━━━━━━━━━━━\u001b[0m\u001b[37m\u001b[0m \u001b[1m16s\u001b[0m 3ms/step - loss: 26.1122 - val_loss: 26.9434\n",
      "Epoch 74/100\n",
      "\u001b[1m2250/2250\u001b[0m \u001b[32m━━━━━━━━━━━━━━━━━━━━\u001b[0m\u001b[37m\u001b[0m \u001b[1m5s\u001b[0m 2ms/step - loss: 25.9413 - val_loss: 27.1959\n",
      "Epoch 75/100\n",
      "\u001b[1m2250/2250\u001b[0m \u001b[32m━━━━━━━━━━━━━━━━━━━━\u001b[0m\u001b[37m\u001b[0m \u001b[1m6s\u001b[0m 3ms/step - loss: 26.1009 - val_loss: 26.0046\n",
      "Epoch 76/100\n",
      "\u001b[1m2250/2250\u001b[0m \u001b[32m━━━━━━━━━━━━━━━━━━━━\u001b[0m\u001b[37m\u001b[0m \u001b[1m7s\u001b[0m 3ms/step - loss: 25.6956 - val_loss: 26.8133\n",
      "Epoch 77/100\n",
      "\u001b[1m2250/2250\u001b[0m \u001b[32m━━━━━━━━━━━━━━━━━━━━\u001b[0m\u001b[37m\u001b[0m \u001b[1m6s\u001b[0m 3ms/step - loss: 25.9685 - val_loss: 25.7501\n",
      "Epoch 78/100\n",
      "\u001b[1m2250/2250\u001b[0m \u001b[32m━━━━━━━━━━━━━━━━━━━━\u001b[0m\u001b[37m\u001b[0m \u001b[1m6s\u001b[0m 3ms/step - loss: 25.7325 - val_loss: 26.9447\n",
      "Epoch 79/100\n",
      "\u001b[1m2250/2250\u001b[0m \u001b[32m━━━━━━━━━━━━━━━━━━━━\u001b[0m\u001b[37m\u001b[0m \u001b[1m5s\u001b[0m 2ms/step - loss: 26.1456 - val_loss: 25.9768\n",
      "Epoch 80/100\n",
      "\u001b[1m2250/2250\u001b[0m \u001b[32m━━━━━━━━━━━━━━━━━━━━\u001b[0m\u001b[37m\u001b[0m \u001b[1m7s\u001b[0m 3ms/step - loss: 26.0590 - val_loss: 26.5163\n",
      "Epoch 81/100\n",
      "\u001b[1m2250/2250\u001b[0m \u001b[32m━━━━━━━━━━━━━━━━━━━━\u001b[0m\u001b[37m\u001b[0m \u001b[1m5s\u001b[0m 2ms/step - loss: 25.8533 - val_loss: 26.1836\n",
      "Epoch 82/100\n",
      "\u001b[1m2250/2250\u001b[0m \u001b[32m━━━━━━━━━━━━━━━━━━━━\u001b[0m\u001b[37m\u001b[0m \u001b[1m7s\u001b[0m 3ms/step - loss: 25.9679 - val_loss: 27.6192\n",
      "Epoch 83/100\n",
      "\u001b[1m2250/2250\u001b[0m \u001b[32m━━━━━━━━━━━━━━━━━━━━\u001b[0m\u001b[37m\u001b[0m \u001b[1m10s\u001b[0m 3ms/step - loss: 25.8901 - val_loss: 25.8781\n",
      "Epoch 84/100\n",
      "\u001b[1m2250/2250\u001b[0m \u001b[32m━━━━━━━━━━━━━━━━━━━━\u001b[0m\u001b[37m\u001b[0m \u001b[1m8s\u001b[0m 4ms/step - loss: 25.8589 - val_loss: 26.8588\n",
      "Epoch 85/100\n",
      "\u001b[1m2250/2250\u001b[0m \u001b[32m━━━━━━━━━━━━━━━━━━━━\u001b[0m\u001b[37m\u001b[0m \u001b[1m10s\u001b[0m 3ms/step - loss: 26.1210 - val_loss: 26.3294\n",
      "Epoch 86/100\n",
      "\u001b[1m2250/2250\u001b[0m \u001b[32m━━━━━━━━━━━━━━━━━━━━\u001b[0m\u001b[37m\u001b[0m \u001b[1m6s\u001b[0m 3ms/step - loss: 25.8969 - val_loss: 25.7716\n",
      "Epoch 87/100\n",
      "\u001b[1m2250/2250\u001b[0m \u001b[32m━━━━━━━━━━━━━━━━━━━━\u001b[0m\u001b[37m\u001b[0m \u001b[1m8s\u001b[0m 4ms/step - loss: 26.0935 - val_loss: 26.6511\n",
      "Epoch 88/100\n",
      "\u001b[1m2250/2250\u001b[0m \u001b[32m━━━━━━━━━━━━━━━━━━━━\u001b[0m\u001b[37m\u001b[0m \u001b[1m8s\u001b[0m 3ms/step - loss: 25.6802 - val_loss: 26.4236\n",
      "Epoch 89/100\n",
      "\u001b[1m2250/2250\u001b[0m \u001b[32m━━━━━━━━━━━━━━━━━━━━\u001b[0m\u001b[37m\u001b[0m \u001b[1m6s\u001b[0m 3ms/step - loss: 25.6806 - val_loss: 26.4699\n",
      "Epoch 90/100\n",
      "\u001b[1m2250/2250\u001b[0m \u001b[32m━━━━━━━━━━━━━━━━━━━━\u001b[0m\u001b[37m\u001b[0m \u001b[1m10s\u001b[0m 2ms/step - loss: 25.6823 - val_loss: 26.4367\n",
      "Epoch 91/100\n",
      "\u001b[1m2250/2250\u001b[0m \u001b[32m━━━━━━━━━━━━━━━━━━━━\u001b[0m\u001b[37m\u001b[0m \u001b[1m11s\u001b[0m 2ms/step - loss: 25.8453 - val_loss: 27.1639\n",
      "Epoch 92/100\n",
      "\u001b[1m2250/2250\u001b[0m \u001b[32m━━━━━━━━━━━━━━━━━━━━\u001b[0m\u001b[37m\u001b[0m \u001b[1m10s\u001b[0m 2ms/step - loss: 25.8214 - val_loss: 27.1435\n",
      "Epoch 93/100\n",
      "\u001b[1m2250/2250\u001b[0m \u001b[32m━━━━━━━━━━━━━━━━━━━━\u001b[0m\u001b[37m\u001b[0m \u001b[1m5s\u001b[0m 2ms/step - loss: 25.7171 - val_loss: 26.8688\n",
      "Epoch 94/100\n",
      "\u001b[1m2250/2250\u001b[0m \u001b[32m━━━━━━━━━━━━━━━━━━━━\u001b[0m\u001b[37m\u001b[0m \u001b[1m6s\u001b[0m 2ms/step - loss: 25.9592 - val_loss: 25.9119\n",
      "Epoch 95/100\n",
      "\u001b[1m2250/2250\u001b[0m \u001b[32m━━━━━━━━━━━━━━━━━━━━\u001b[0m\u001b[37m\u001b[0m \u001b[1m5s\u001b[0m 2ms/step - loss: 25.7898 - val_loss: 26.9787\n",
      "Epoch 96/100\n",
      "\u001b[1m2250/2250\u001b[0m \u001b[32m━━━━━━━━━━━━━━━━━━━━\u001b[0m\u001b[37m\u001b[0m \u001b[1m6s\u001b[0m 3ms/step - loss: 25.9480 - val_loss: 26.0945\n",
      "Epoch 97/100\n",
      "\u001b[1m2250/2250\u001b[0m \u001b[32m━━━━━━━━━━━━━━━━━━━━\u001b[0m\u001b[37m\u001b[0m \u001b[1m6s\u001b[0m 3ms/step - loss: 25.6018 - val_loss: 28.3742\n",
      "Epoch 98/100\n",
      "\u001b[1m2250/2250\u001b[0m \u001b[32m━━━━━━━━━━━━━━━━━━━━\u001b[0m\u001b[37m\u001b[0m \u001b[1m6s\u001b[0m 3ms/step - loss: 25.8989 - val_loss: 25.7845\n",
      "Epoch 99/100\n",
      "\u001b[1m2250/2250\u001b[0m \u001b[32m━━━━━━━━━━━━━━━━━━━━\u001b[0m\u001b[37m\u001b[0m \u001b[1m6s\u001b[0m 3ms/step - loss: 25.7140 - val_loss: 26.9781\n",
      "Epoch 100/100\n",
      "\u001b[1m2250/2250\u001b[0m \u001b[32m━━━━━━━━━━━━━━━━━━━━\u001b[0m\u001b[37m\u001b[0m \u001b[1m5s\u001b[0m 2ms/step - loss: 25.8369 - val_loss: 26.6223\n",
      "\u001b[1m625/625\u001b[0m \u001b[32m━━━━━━━━━━━━━━━━━━━━\u001b[0m\u001b[37m\u001b[0m \u001b[1m1s\u001b[0m 2ms/step\n",
      "Keras Regressor - Mean Squared Error: 26.474141836627805, RMSE: 5.145302890659384, R² Score: -0.055481517697781646\n"
     ]
    },
    {
     "data": {
      "image/png": "[encoded data removed]",
      "text/plain": [
       "<Figure size 1800x500 with 3 Axes>"
      ]
     },
     "metadata": {},
     "output_type": "display_data"
    }
   ],
   "source": [
    "run_analysis(X_train, y_train, X_test, y_test, metrics_dict)"
   ]
  }
 ],
 "metadata": {
  "kernelspec": {
   "display_name": "venv",
   "language": "python",
   "name": "python3"
  },
  "language_info": {
   "codemirror_mode": {
    "name": "ipython",
    "version": 3
   },
   "file_extension": ".py",
   "mimetype": "text/x-python",
   "name": "python",
   "nbconvert_exporter": "python",
   "pygments_lexer": "ipython3",
   "version": "3.12.5"
  }
 },
 "nbformat": 4,
 "nbformat_minor": 2
}
